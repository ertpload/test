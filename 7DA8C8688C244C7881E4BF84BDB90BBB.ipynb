{
 "cells": [
  {
   "cell_type": "code",
   "execution_count": null,
   "metadata": {},
   "outputs": [],
   "source": [
    "run Research/retropy.ipynb"
   ]
  },
  {
   "cell_type": "code",
   "execution_count": null,
   "metadata": {},
   "outputs": [],
   "source": [
    "spy = get(\"SPY\")\n",
    "spy_ils = convertSeries(spy, \"USD\", \"ILS\")\n",
    "show(spy,spy_ils,\"USDILS@CUR\",ta='rel')"
   ]
  },
  {
   "cell_type": "code",
   "execution_count": null,
   "metadata": {},
   "outputs": [],
   "source": [
    "bnd = get(\"BND\")\n",
    "bnd_ils = convertSeries(bnd, \"USD\", \"ILS\")\n",
    "show(bnd,bnd_ils,\"USDILS@CUR\", ta = 'rel', cache = True)"
   ]
  },
  {
   "cell_type": "code",
   "execution_count": null,
   "metadata": {},
   "outputs": [],
   "source": [
    "tlt = get(\"TLT\")\n",
    "tlt_ils = convertSeries(tlt, \"USD\", \"ILS\")\n",
    "show(tlt,tlt_ils,ta=\"rel\")"
   ]
  },
  {
   "cell_type": "code",
   "execution_count": null,
   "metadata": {},
   "outputs": [],
   "source": [
    "show(\"USDILS@CUR\", cache=False, ta=False)"
   ]
  },
  {
   "cell_type": "code",
   "execution_count": null,
   "metadata": {},
   "outputs": [],
   "source": [
    "migdal = \"5113022@TASE = 2-5תכלית שקלי\"\n",
    "psagot = \"5111240@TASE = פסגות צמוד2-5\"\n",
    "clali = \"5112271@TASE = פסגות אגח ממשלתי כללי\"\n",
    "\n",
    "show(migdal, psagot, clali, ta=\"rel\", cache=False)"
   ]
  },
  {
   "cell_type": "code",
   "execution_count": null,
   "metadata": {},
   "outputs": [],
   "source": [
    "migdal = \"5113022@TASE = 2-5תכלית שקלי\"\n",
    "psagot = \"5111240@TASE = פסגות צמוד2-5\"\n",
    "clali = \"5112271@TASE = פסגות אגח ממשלתי כללי\"\n",
    "bnd = get(\"BND\")\n",
    "bnd_ils = convertSeries(bnd, \"USD\", \"ILS\")\n",
    "\n",
    "show(migdal, psagot, clali,bnd_ils,bnd,\"USDILS@CUR\", ta=True, cache=True)"
   ]
  },
  {
   "cell_type": "code",
   "execution_count": null,
   "metadata": {},
   "outputs": [],
   "source": [
    "spy = get(\"SPY\")\n",
    "spy_ils = convertSeries(spy, \"USD\", \"ILS\")\n",
    "bnd = get(\"BND\")\n",
    "bnd_ils = convertSeries(bnd, \"USD\", \"ILS\")\n",
    "show(spy,spy_ils,bnd,bnd_ils,\"USDILS@CUR\",ta='rel')\n"
   ]
  },
  {
   "cell_type": "code",
   "execution_count": null,
   "metadata": {},
   "outputs": [],
   "source": [
    "publish()"
   ]
  }
 ],
 "metadata": {
  "kernelspec": {
   "display_name": "Python 3",
   "language": "python",
   "name": "python3"
  },
  "language_info": {
   "codemirror_mode": {
    "name": "ipython",
    "version": 3
   },
   "file_extension": ".py",
   "mimetype": "text/x-python",
   "name": "python",
   "nbconvert_exporter": "python",
   "pygments_lexer": "ipython3",
   "version": "3.7.3"
  }
 },
 "nbformat": 4,
 "nbformat_minor": 2
}
