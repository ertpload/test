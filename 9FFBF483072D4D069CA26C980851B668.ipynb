{
 "cells": [
  {
   "cell_type": "code",
   "execution_count": null,
   "metadata": {
    "ExecuteTime": {
     "end_time": "2019-07-07T18:54:16.483175Z",
     "start_time": "2019-07-07T18:54:14.045594Z"
    }
   },
   "outputs": [],
   "source": [
    "%run Research/retropy.ipynb"
   ]
  },
  {
   "cell_type": "code",
   "execution_count": null,
   "metadata": {
    "ExecuteTime": {
     "end_time": "2019-07-07T18:54:26.154655Z",
     "start_time": "2019-07-07T18:54:17.760165Z"
    }
   },
   "outputs": [],
   "source": [
    "# קרנות נאמנות, תעודות סל, ומדדים של בורסת תל אביב \n",
    "show(\"137@TASE\", \"01096593@TASE\", \"5109889@TASE\", trim=False)"
   ]
  },
  {
   "cell_type": "code",
   "execution_count": null,
   "metadata": {
    "ExecuteTime": {
     "end_time": "2019-07-07T18:54:30.163029Z",
     "start_time": "2019-07-07T18:54:28.507796Z"
    }
   },
   "outputs": [],
   "source": [
    "# same as above, with nick names\n",
    "ta125 = \"137@TASE = TA125\"\n",
    "mtf_ta125 = \"5109889@TASE = MTF תא 125 סד-1\"\n",
    "psg_ta125 = \"01096593@TASE = פסגות סל תא 125 סד-1\"\n",
    "show(ta125, psg_ta125, mtf_ta125, trim=False)"
   ]
  },
  {
   "cell_type": "code",
   "execution_count": null,
   "metadata": {
    "ExecuteTime": {
     "end_time": "2019-07-07T18:54:41.953922Z",
     "start_time": "2019-07-07T18:54:30.164727Z"
    }
   },
   "outputs": [],
   "source": [
    "tahlit = \"5113998@TASE = תכלית\"\n",
    "kesem = \"5124482@TASE = קסם\"\n",
    "migdal = \"5122627@TASE = מגדל\"\n",
    "ibi = \"5117601@TASE = אי בי אי\"\n",
    "psagot = \"5127469@TASE = פסגות\"\n",
    "\n",
    "show(\"SPY\", tahlit, kesem, migdal, ibi, psagot)"
   ]
  },
  {
   "cell_type": "code",
   "execution_count": null,
   "metadata": {
    "ExecuteTime": {
     "end_time": "2019-07-07T18:55:51.904056Z",
     "start_time": "2019-07-07T18:54:41.955513Z"
    }
   },
   "outputs": [],
   "source": [
    "show(\"FDN\", \"AMZN\", \"FB\", \"GOOG\", \"MSFT\", \"SPY\")"
   ]
  },
  {
   "cell_type": "code",
   "execution_count": null,
   "metadata": {
    "ExecuteTime": {
     "end_time": "2019-07-07T18:57:03.224105Z",
     "start_time": "2019-07-07T18:56:50.349877Z"
    }
   },
   "outputs": [],
   "source": [
    "AAPLQ = get(\"WIKI/AAPL@Q\")\n",
    "\n",
    " # horizontal and verical marker lines\n",
    "show('AAPL', AAPLQ, 2, datetime.datetime(2015, 8, 25))\n",
    "\n",
    "# moving average, disable trim-align feature\n",
    "show('SPY', ma(get('SPY'), 200), ta=False)\n",
    "\n",
    "# compare asset in absolute and relative terms\n",
    "show('BND', 'SPY', 'VFITX')\n",
    "show(get('BND')/get('SPY'), get('VFITX')/get('SPY'))"
   ]
  },
  {
   "cell_type": "code",
   "execution_count": null,
   "metadata": {
    "ExecuteTime": {
     "end_time": "2019-07-07T18:57:17.832963Z",
     "start_time": "2019-07-07T18:57:04.773550Z"
    }
   },
   "outputs": [],
   "source": [
    "show(\"EUR/USD@IC\", \"EURUSD@CUR\")"
   ]
  },
  {
   "cell_type": "code",
   "execution_count": null,
   "metadata": {
    "ExecuteTime": {
     "end_time": "2019-07-07T18:57:27.752313Z",
     "start_time": "2019-07-07T18:57:17.834470Z"
    }
   },
   "outputs": [],
   "source": [
    "show(\"IWDA@IC\", get(\"IWDA.AS!EUR\") * get(\"EURUSD@CUR\"))"
   ]
  },
  {
   "cell_type": "code",
   "execution_count": null,
   "metadata": {
    "ExecuteTime": {
     "end_time": "2019-07-07T18:57:32.882387Z",
     "start_time": "2019-07-07T18:57:27.753824Z"
    }
   },
   "outputs": [],
   "source": [
    "show(\"MIWO00000NUS@IC\", \"IWDA@IC\")"
   ]
  },
  {
   "cell_type": "code",
   "execution_count": null,
   "metadata": {
    "ExecuteTime": {
     "end_time": "2019-07-07T18:58:38.462136Z",
     "start_time": "2019-07-07T18:58:35.336166Z"
    }
   },
   "outputs": [],
   "source": [
    "show(\"USD/ILS@IC\", \"USDILS@CUR\", 1/get(\"ILS/USD@IC\"), ta=False)"
   ]
  },
  {
   "cell_type": "code",
   "execution_count": null,
   "metadata": {
    "ExecuteTime": {
     "end_time": "2019-07-07T18:55:56.451041Z",
     "start_time": "2019-07-07T18:54:31.250Z"
    }
   },
   "outputs": [],
   "source": [
    "# be sure to save before you publish\n",
    "# when done, you will get a public link to an HTML file with the results\n",
    "publish()"
   ]
  },
  {
   "cell_type": "code",
   "execution_count": null,
   "metadata": {},
   "outputs": [],
   "source": []
  }
 ],
 "metadata": {
  "kernelspec": {
   "display_name": "Python 3",
   "language": "python",
   "name": "python3"
  },
  "language_info": {
   "codemirror_mode": {
    "name": "ipython",
    "version": 3
   },
   "file_extension": ".py",
   "mimetype": "text/x-python",
   "name": "python",
   "nbconvert_exporter": "python",
   "pygments_lexer": "ipython3",
   "version": "3.6.7"
  },
  "varInspector": {
   "cols": {
    "lenName": 16,
    "lenType": 16,
    "lenVar": 40
   },
   "kernels_config": {
    "python": {
     "delete_cmd_postfix": "",
     "delete_cmd_prefix": "del ",
     "library": "var_list.py",
     "varRefreshCmd": "print(var_dic_list())"
    },
    "r": {
     "delete_cmd_postfix": ") ",
     "delete_cmd_prefix": "rm(",
     "library": "var_list.r",
     "varRefreshCmd": "cat(var_dic_list()) "
    }
   },
   "types_to_exclude": [
    "module",
    "function",
    "builtin_function_or_method",
    "instance",
    "_Feature"
   ],
   "window_display": false
  }
 },
 "nbformat": 4,
 "nbformat_minor": 2
}
