{
 "cells": [
  {
   "cell_type": "code",
   "execution_count": null,
   "metadata": {
    "scrolled": true
   },
   "outputs": [],
   "source": [
    "%run \"Retropy_framework.ipynb\""
   ]
  },
  {
   "cell_type": "code",
   "execution_count": null,
   "metadata": {
    "scrolled": false
   },
   "outputs": [],
   "source": [
    "SPY = get(\"SPY\")\n",
    "BND = get(\"BND\")\n",
    "HTUS = get(\"HTUS\")\n",
    "VFITX = get(\"VFITX\")\n",
    "AAPLQ = get(\"WIKI/AAPL\", \"Q\")\n",
    "AAPL = get(\"AAPL\")\n",
    "\n",
    "show(AAPL, AAPLQ, 2, datetime.datetime(2015, 8, 25))\n",
    "show(SPY, ma(SPY, 200), ta=False)\n",
    "show(BND, SPY, VFITX)\n",
    "show(BND/SPY, HTUS/SPY, VFITX/SPY)"
   ]
  },
  {
   "cell_type": "code",
   "execution_count": null,
   "metadata": {},
   "outputs": [],
   "source": [
    "# be sure to save before you publish\n",
    "publish()"
   ]
  }
 ],
 "metadata": {
  "kernelspec": {
   "display_name": "Python [conda env:finpy]",
   "language": "python",
   "name": "conda-env-finpy-py"
  },
  "language_info": {
   "codemirror_mode": {
    "name": "ipython",
    "version": 3
   },
   "file_extension": ".py",
   "mimetype": "text/x-python",
   "name": "python",
   "nbconvert_exporter": "python",
   "pygments_lexer": "ipython3",
   "version": "3.6.4"
  }
 },
 "nbformat": 4,
 "nbformat_minor": 2
}
