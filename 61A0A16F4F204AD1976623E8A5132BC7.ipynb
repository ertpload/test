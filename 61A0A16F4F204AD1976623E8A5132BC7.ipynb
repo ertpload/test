{
 "cells": [
  {
   "cell_type": "code",
   "execution_count": null,
   "metadata": {
    "ExecuteTime": {
     "end_time": "2018-06-02T07:38:14.994414Z",
     "start_time": "2018-06-02T07:38:10.919395Z"
    },
    "scrolled": false
   },
   "outputs": [],
   "source": [
    "%run \"Retropy_framework.ipynb\""
   ]
  },
  {
   "cell_type": "code",
   "execution_count": null,
   "metadata": {
    "ExecuteTime": {
     "end_time": "2018-06-02T07:38:16.666908Z",
     "start_time": "2018-06-02T07:38:16.360278Z"
    }
   },
   "outputs": [],
   "source": [
    "show(SPY)"
   ]
  },
  {
   "cell_type": "code",
   "execution_count": null,
   "metadata": {
    "ExecuteTime": {
     "end_time": "2018-05-30T19:36:59.465527Z",
     "start_time": "2018-05-30T19:36:49.825558Z"
    }
   },
   "outputs": [],
   "source": [
    "show(FDN, AMZN, FB, GOOG, MSFT, SPY)"
   ]
  },
  {
   "cell_type": "code",
   "execution_count": null,
   "metadata": {
    "ExecuteTime": {
     "end_time": "2018-05-30T19:37:29.498537Z",
     "start_time": "2018-05-30T19:37:27.957009Z"
    },
    "scrolled": false
   },
   "outputs": [],
   "source": [
    "AAPLQ = get(\"WIKI/AAPL@Q\")\n",
    "\n",
    " # horizontal and verical marker lines\n",
    "show(AAPL, AAPLQ, 2, datetime.datetime(2015, 8, 25))\n",
    "\n",
    "# moving average, disable trim-align feature\n",
    "show(SPY, ma(SPY, 200), ta=False)\n",
    "\n",
    "# compare asset in absolute and relative terms\n",
    "show(BND, SPY, VFITX)\n",
    "show(BND/SPY, VFITX/SPY)"
   ]
  },
  {
   "cell_type": "code",
   "execution_count": null,
   "metadata": {
    "ExecuteTime": {
     "end_time": "2018-05-30T19:38:23.391194Z",
     "start_time": "2018-05-30T19:38:23.017671Z"
    }
   },
   "outputs": [],
   "source": [
    "show(\"EUR/USD@IC\", \"EURUSD@CUR\")"
   ]
  },
  {
   "cell_type": "code",
   "execution_count": null,
   "metadata": {
    "ExecuteTime": {
     "end_time": "2018-05-30T19:39:29.193811Z",
     "start_time": "2018-05-30T19:39:26.094849Z"
    }
   },
   "outputs": [],
   "source": [
    "show(\"IWDA@IC\", get(\"IWDA.AS!EUR\") * get(\"EURUSD@CUR\"))"
   ]
  },
  {
   "cell_type": "code",
   "execution_count": null,
   "metadata": {
    "ExecuteTime": {
     "end_time": "2018-05-30T19:39:47.867349Z",
     "start_time": "2018-05-30T19:39:42.468041Z"
    }
   },
   "outputs": [],
   "source": [
    "show(\"MIWO00000NUS@IC\", \"IWDA@IC\")"
   ]
  },
  {
   "cell_type": "code",
   "execution_count": null,
   "metadata": {
    "ExecuteTime": {
     "end_time": "2018-05-30T19:41:36.718550Z",
     "start_time": "2018-05-30T19:40:22.507466Z"
    },
    "collapsed": true
   },
   "outputs": [],
   "source": [
    "# be sure to save before you publish\n",
    "# when done, you will get a public link to an HTML file with the results\n",
    "publish()"
   ]
  }
 ],
 "metadata": {
  "kernelspec": {
   "display_name": "Python 3",
   "language": "python",
   "name": "python3"
  },
  "language_info": {
   "codemirror_mode": {
    "name": "ipython",
    "version": 3
   },
   "file_extension": ".py",
   "mimetype": "text/x-python",
   "name": "python",
   "nbconvert_exporter": "python",
   "pygments_lexer": "ipython3",
   "version": "3.6.3"
  },
  "varInspector": {
   "cols": {
    "lenName": 16,
    "lenType": 16,
    "lenVar": 40
   },
   "kernels_config": {
    "python": {
     "delete_cmd_postfix": "",
     "delete_cmd_prefix": "del ",
     "library": "var_list.py",
     "varRefreshCmd": "print(var_dic_list())"
    },
    "r": {
     "delete_cmd_postfix": ") ",
     "delete_cmd_prefix": "rm(",
     "library": "var_list.r",
     "varRefreshCmd": "cat(var_dic_list()) "
    }
   },
   "types_to_exclude": [
    "module",
    "function",
    "builtin_function_or_method",
    "instance",
    "_Feature"
   ],
   "window_display": false
  }
 },
 "nbformat": 4,
 "nbformat_minor": 2
}
